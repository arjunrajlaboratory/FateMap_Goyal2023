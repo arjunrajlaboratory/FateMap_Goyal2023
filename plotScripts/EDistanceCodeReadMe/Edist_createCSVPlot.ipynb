{
 "cells": [
  {
   "cell_type": "code",
   "execution_count": 1,
   "outputs": [],
   "source": [
    "import pandas as pd\n",
    "import numpy as np\n",
    "import os\n",
    "from os import listdir\n",
    "from os.path import isfile, join"
   ],
   "metadata": {
    "collapsed": false,
    "pycharm": {
     "name": "#%%\n"
    },
    "ExecuteTime": {
     "end_time": "2023-06-01T20:50:48.075043Z",
     "start_time": "2023-06-01T20:50:47.330888Z"
    }
   }
  },
  {
   "cell_type": "code",
   "execution_count": 8,
   "outputs": [],
   "source": [
    "datapath = \"/Volumes/Dropbox (RajLab)/FateMap/FINAL_REVISION/analysis_Jonas/data/e_dist\"\n",
    "resultPath = \"/Volumes/Dropbox (RajLab)/FateMap/FINAL_REVISION/analysis_Jonas/data/e_distResults\""
   ],
   "metadata": {
    "collapsed": false,
    "pycharm": {
     "name": "#%%\n"
    },
    "ExecuteTime": {
     "end_time": "2023-06-01T20:52:30.503641Z",
     "start_time": "2023-06-01T20:52:30.486137Z"
    }
   }
  },
  {
   "cell_type": "code",
   "execution_count": 9,
   "outputs": [],
   "source": [
    "folders = [x[0] for x in os.walk(path)]\n",
    "folders = sorted(folders)"
   ],
   "metadata": {
    "collapsed": false,
    "pycharm": {
     "name": "#%%\n"
    },
    "ExecuteTime": {
     "end_time": "2023-06-01T20:52:30.823348Z",
     "start_time": "2023-06-01T20:52:30.816752Z"
    }
   }
  },
  {
   "cell_type": "code",
   "execution_count": 10,
   "outputs": [
    {
     "data": {
      "text/plain": "['/Volumes/Aorta/analysis_Jonas/data/e_dist',\n '/Volumes/Aorta/analysis_Jonas/data/e_dist/fm01_1',\n '/Volumes/Aorta/analysis_Jonas/data/e_dist/fm01_2',\n '/Volumes/Aorta/analysis_Jonas/data/e_dist/fm06_1',\n '/Volumes/Aorta/analysis_Jonas/data/e_dist/fm06_2']"
     },
     "execution_count": 10,
     "metadata": {},
     "output_type": "execute_result"
    }
   ],
   "source": [
    "folders"
   ],
   "metadata": {
    "collapsed": false,
    "ExecuteTime": {
     "end_time": "2023-06-01T20:52:31.256436Z",
     "start_time": "2023-06-01T20:52:31.251106Z"
    }
   }
  },
  {
   "cell_type": "code",
   "execution_count": 11,
   "outputs": [],
   "source": [
    "numberSimulFM01 = {}\n",
    "numberSimulFM06 = {}\n",
    "dfNumberClusters = pd.DataFrame()\n",
    "dfDistances = pd.DataFrame()\n",
    "for folder in folders:\n",
    "    os.chdir(folder)\n",
    "    files = [f for f in listdir(folder) if isfile(join(folder, f)) if \".DS_Store\" not in f if \".csv\" in f if \"._\" not in f]\n",
    "    for file in files:\n",
    "        dataset = folder.split(\"/\")[-1].split(\"_\")[0]\n",
    "        sample = folder.split(\"/\")[-1].split(\"_\")[1]\n",
    "        resolution = file.split(\"res\")[1].split(\"_\")[0]\n",
    "        simul = file.split(\".csv\")[0].split(\"_\")[-1]\n",
    "        df = pd.read_csv(join(folder, file), index_col=0)\n",
    "        arr = df.values\n",
    "        matrix = np.matrix(arr)\n",
    "        lower_diag = np.tril(matrix, k=-1)\n",
    "        values = lower_diag[lower_diag > 0]\n",
    "        dataset_list = [dataset] * len(values)\n",
    "        sample_list = [sample] * len(values)\n",
    "        numberCluster_list = [len(df)]* len(values)\n",
    "        simul_list = [simul] * len(values)\n",
    "\n",
    "        if dataset == \"fm01\":\n",
    "            if len(df) in numberSimulFM01:\n",
    "                numberSimulFM01[len(df)] = numberSimulFM01[len(df)] +1\n",
    "            else:\n",
    "                numberSimulFM01[len(df)] = 1\n",
    "            numberSimul = numberSimulFM01\n",
    "        else:\n",
    "            if len(df) in numberSimulFM06:\n",
    "                numberSimulFM06[len(df)] = numberSimulFM06[len(df)] +1\n",
    "            else:\n",
    "                numberSimulFM06[len(df)] = 1\n",
    "            numberSimul = numberSimulFM06\n",
    "\n",
    "        idList = [numberSimul[len(df)]] * len(values)\n",
    "        dfDistances = pd.concat([dfDistances,pd.DataFrame({\"Dataset\": dataset_list, \"sample\": sample_list, \"simulation\": simul_list,\"id\": idList, \"numberCluster\": numberCluster_list, \"distances\": values})], ignore_index=True)\n",
    "        dfNumberClusters = pd.concat([dfNumberClusters, pd.DataFrame({\"Dataset\": [dataset], \"sample\": [sample], \"simulation\":[simul], \"resolution\": [resolution], \"numberCluster\": [len(df)]})], ignore_index=True)"
   ],
   "metadata": {
    "collapsed": false,
    "pycharm": {
     "name": "#%%\n"
    },
    "ExecuteTime": {
     "end_time": "2023-06-01T20:52:31.976541Z",
     "start_time": "2023-06-01T20:52:31.724447Z"
    }
   }
  },
  {
   "cell_type": "code",
   "execution_count": 12,
   "outputs": [],
   "source": [
    "dfDistances.to_csv(join(resultPath, \"Edistances_fm01VSfm06.csv\"), index= False)"
   ],
   "metadata": {
    "collapsed": false,
    "pycharm": {
     "name": "#%%\n"
    },
    "ExecuteTime": {
     "end_time": "2023-06-01T20:52:33.209168Z",
     "start_time": "2023-06-01T20:52:33.201695Z"
    }
   }
  },
  {
   "cell_type": "code",
   "execution_count": 13,
   "outputs": [],
   "source": [
    "dfNumberClusters.to_csv(join(resultPath,\"NumberClusters_fm01VSfm06.csv\"), index=False)"
   ],
   "metadata": {
    "collapsed": false,
    "pycharm": {
     "name": "#%%\n"
    },
    "ExecuteTime": {
     "end_time": "2023-06-01T20:52:33.371564Z",
     "start_time": "2023-06-01T20:52:33.368101Z"
    }
   }
  },
  {
   "cell_type": "code",
   "execution_count": null,
   "outputs": [],
   "source": [],
   "metadata": {
    "collapsed": false
   }
  }
 ],
 "metadata": {
  "kernelspec": {
   "display_name": "Python 3",
   "language": "python",
   "name": "python3"
  },
  "language_info": {
   "codemirror_mode": {
    "name": "ipython",
    "version": 2
   },
   "file_extension": ".py",
   "mimetype": "text/x-python",
   "name": "python",
   "nbconvert_exporter": "python",
   "pygments_lexer": "ipython2",
   "version": "2.7.6"
  }
 },
 "nbformat": 4,
 "nbformat_minor": 0
}
